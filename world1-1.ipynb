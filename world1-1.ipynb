{
    "cells": [
        {
            "cell_type": "markdown",
            "metadata": {},
            "source": [
                "# Setting\n"
            ]
        },
        {
            "cell_type": "code",
            "execution_count": null,
            "metadata": {},
            "outputs": [],
            "source": [
                "# マリオ関連のimport\n",
                "from nes_py.wrappers import JoypadSpace\n",
                "import gym_super_mario_bros\n",
                "\n",
                "# プロット関連のimport\n",
                "import matplotlib.pyplot as plt\n",
                "from matplotlib import animation, rc\n",
                "from IPython.display import display\n",
                "\n",
                "# 数値関連のimport\n",
                "import math\n",
                "import numpy as np\n",
                "import numpy.random as rnd\n",
                "\n",
                "# 警告関連のimport\n",
                "import warnings\n",
                "\n",
                "# マルチプロセス関連のimport\n",
                "from concurrent.futures import ThreadPoolExecutor"
            ]
        },
        {
            "cell_type": "code",
            "execution_count": null,
            "metadata": {},
            "outputs": [],
            "source": [
                "# アニメーションのサイズを拡張\n",
                "plt.rcParams['animation.embed_limit'] = 200\n",
                "\n",
                "# シード値を設定（Time stamp of 1/1/2024）\n",
                "rnd.seed(1704034800)\n",
                "\n",
                "# 警告を非表示\n",
                "warnings.filterwarnings(\"ignore\", category=UserWarning, module=\"gym.envs.registration\")"
            ]
        },
        {
            "cell_type": "markdown",
            "metadata": {},
            "source": [
                "# Condition\n"
            ]
        },
        {
            "cell_type": "code",
            "execution_count": null,
            "metadata": {},
            "outputs": [],
            "source": [
                "# ステージ\n",
                "STAGE = 'SuperMarioBros-1-1-v0'\n",
                "\n",
                "# アクションパターン\n",
                "MOVEMENT = [\n",
                "    ['right', 'B'],\n",
                "    ['right', 'A', 'B']\n",
                "]"
            ]
        },
        {
            "cell_type": "code",
            "execution_count": null,
            "metadata": {},
            "outputs": [],
            "source": [
                "# 定数設定\n",
                "MAX_WORKERS = 10            # 最大プロセス数\n",
                "MAX_GENERATIONS = 50        # 最大世代数\n",
                "NUM_MARIOS = 50             # 個体数\n",
                "LEN_CHROMOSOME = 500        # 染色体の長さ\n",
                "CROSS_RATE = 0.9            # 交叉率\n",
                "MUTATION_RATE = 0.1         # 突然変異率\n",
                "MUTATION_POINTS_RATE = 0.1  # 突然変異点率\n",
                "FRAME_INTERVAL = 4          # 行動するフレーム間隔\n",
                "STOP_FRAMES = 10            # 停滞と判断するフレーム数"
            ]
        },
        {
            "cell_type": "markdown",
            "metadata": {},
            "source": [
                "# Method\n"
            ]
        },
        {
            "cell_type": "code",
            "execution_count": null,
            "metadata": {},
            "outputs": [],
            "source": [
                "def create_generation():\n",
                "    \"\"\"初期世代を作成する関数\"\"\"\n",
                "    return rnd.randint(len(MOVEMENT), size=(NUM_MARIOS, LEN_CHROMOSOME))"
            ]
        },
        {
            "cell_type": "code",
            "execution_count": null,
            "metadata": {},
            "outputs": [],
            "source": [
                "def cross(parent1, parent2):\n",
                "    \"\"\"\"交叉を行う関数\"\"\"\n",
                "    cross_point = rnd.randint(LEN_CHROMOSOME)\n",
                "    child1 = np.concatenate([parent1[:cross_point], parent2[cross_point:]])\n",
                "    child2 = np.concatenate([parent2[:cross_point], parent1[cross_point:]])\n",
                "    return child1, child2"
            ]
        },
        {
            "cell_type": "code",
            "execution_count": null,
            "metadata": {},
            "outputs": [],
            "source": [
                "def mutation(mario):\n",
                "    \"\"\"突然変異を行う関数\"\"\"\n",
                "    if rnd.random() < MUTATION_RATE:\n",
                "        num_mutation_points = math.ceil(MUTATION_POINTS_RATE * LEN_CHROMOSOME)\n",
                "        mutated_points = rnd.choice(LEN_CHROMOSOME, num_mutation_points, replace=False)\n",
                "        for mutated_point in mutated_points:\n",
                "            mario[mutated_point] = rnd.randint(len(MOVEMENT))\n",
                "\n",
                "    return mario"
            ]
        },
        {
            "cell_type": "code",
            "execution_count": null,
            "metadata": {},
            "outputs": [],
            "source": [
                "def sorts(fitnesses, generation, images):\n",
                "    \"\"\"並び替える関数\"\"\"\n",
                "    return zip(*sorted(zip(fitnesses, generation, images), key=lambda x: x[0], reverse=True))"
            ]
        },
        {
            "cell_type": "code",
            "execution_count": null,
            "metadata": {},
            "outputs": [],
            "source": [
                "def print_fitness(fitnesses, current_generation):\n",
                "    \"\"\"適応度を出力する関数\"\"\"\n",
                "    max = fitnesses[0]\n",
                "    min = fitnesses[NUM_MARIOS - 1]\n",
                "    avg = int(sum(fitnesses) / NUM_MARIOS)\n",
                "    print(\"{:<3}   max: {:<5}   min: {:<5}   avg: {:<5}\".format(current_generation, max, min, avg))\n",
                "    return max, min, avg"
            ]
        },
        {
            "cell_type": "code",
            "execution_count": null,
            "metadata": {},
            "outputs": [],
            "source": [
                "def roulette_selection(fitnesses, generation):\n",
                "    \"\"\"ルーレット選択を行う関数\"\"\"\n",
                "    selection_rates = fitnesses / np.sum(fitnesses)\n",
                "    parent_indexes = rnd.choice(NUM_MARIOS, 2, p=selection_rates, replace=False)\n",
                "    return generation[parent_indexes[0]], generation[parent_indexes[1]]"
            ]
        },
        {
            "cell_type": "code",
            "execution_count": null,
            "metadata": {},
            "outputs": [],
            "source": [
                "\n",
                "def evaluate(mario):\n",
                "    \"\"\"評価関数\"\"\"\n",
                "    # 環境設定\n",
                "    env = gym_super_mario_bros.make(STAGE)\n",
                "    env = JoypadSpace(env, MOVEMENT)\n",
                "    env.reset()\n",
                "\n",
                "    # ゲーム本番\n",
                "    breaker = False\n",
                "    positions = []\n",
                "    for action in mario:\n",
                "        for _ in range(FRAME_INTERVAL):\n",
                "            observation, reward, done, info = env.step(action)\n",
                "            if done:\n",
                "                breaker = True\n",
                "                break\n",
                "\n",
                "        if breaker:\n",
                "            break\n",
                "        \n",
                "        # 座標を保存\n",
                "        positions.append(info[\"x_pos\"])\n",
                "\n",
                "        # 停滞の場合は終了\n",
                "        if len(positions) >= STOP_FRAMES and len(set(positions[-STOP_FRAMES:])) == 1:\n",
                "            break\n",
                "\n",
                "    # 適応度計算（進んだ距離）\n",
                "    fitness = info[\"x_pos\"]\n",
                "\n",
                "    return fitness, env.render(mode='rgb_array'), info[\"flag_get\"]"
            ]
        },
        {
            "cell_type": "markdown",
            "metadata": {},
            "source": [
                "# Execution\n"
            ]
        },
        {
            "cell_type": "code",
            "execution_count": null,
            "metadata": {},
            "outputs": [],
            "source": [
                "# 世代ごとの最優秀マリオ\n",
                "super_marios = []\n",
                "\n",
                "# 世代ごとの適応度(最大・最小・平均)\n",
                "generations_fitnesses = []\n",
                "\n",
                "# GA本番（マルチプロセス）\n",
                "with ThreadPoolExecutor(max_workers=MAX_WORKERS) as executor:\n",
                "    # 初期世代\n",
                "    generation = create_generation()\n",
                "\n",
                "    # 前世代の最大適応度\n",
                "    previous_max_fitness = 0\n",
                "\n",
                "    for current_generation in range(1, MAX_GENERATIONS + 1):\n",
                "        # 評価\n",
                "        evaluations = list(executor.map(evaluate, generation))\n",
                "        fitnesses = [evaluation[0] for evaluation in evaluations]\n",
                "        images = [evaluation[1] for evaluation in evaluations]\n",
                "\n",
                "        # 並び替え・表示\n",
                "        fitnesses, generation, images = sorts(fitnesses, generation, images)\n",
                "        if previous_max_fitness < fitnesses[0]:\n",
                "            plt.figure(figsize=(2, 2))\n",
                "            plt.imshow(images[0])\n",
                "            plt.show()\n",
                "\n",
                "        generation_fitnesses = print_fitness(fitnesses, current_generation)\n",
                "\n",
                "        # 保存\n",
                "        generations_fitnesses.append(generation_fitnesses)\n",
                "        super_marios.append(generation[0])\n",
                "\n",
                "        # ゴール到達なら終了\n",
                "        if any(evaluation[2] for evaluation in evaluations):\n",
                "            break\n",
                "\n",
                "        # 世代交代\n",
                "        num_elite = math.ceil(NUM_MARIOS * (1 - CROSS_RATE))\n",
                "        next_generation = list(generation[:num_elite])\n",
                "        while len(next_generation) < NUM_MARIOS:\n",
                "            parent1, parent2 = roulette_selection(fitnesses, generation)\n",
                "            child1, child2 = cross(parent1, parent2)\n",
                "            next_generation.extend([mutation(child1), mutation(child2)])\n",
                "\n",
                "        previous_max_fitness = fitnesses[0]\n",
                "        generation = next_generation[:NUM_MARIOS]"
            ]
        },
        {
            "cell_type": "markdown",
            "metadata": {},
            "source": [
                "# Result\n"
            ]
        },
        {
            "cell_type": "code",
            "execution_count": null,
            "metadata": {},
            "outputs": [],
            "source": [
                "def mario_animation(mario):\n",
                "    \"\"\"マリオのアニメーションを作成する関数\"\"\"\n",
                "    # 環境設定\n",
                "    env = gym_super_mario_bros.make(STAGE)\n",
                "    env = JoypadSpace(env, MOVEMENT)\n",
                "    env.reset()\n",
                "\n",
                "    # コマ数を確認\n",
                "    def count_frames():\n",
                "        returner = False\n",
                "        for count, action in enumerate(mario):\n",
                "            for _ in range(FRAME_INTERVAL):\n",
                "                observation, reward, done, info = env.step(action)\n",
                "                if done:\n",
                "                    returner = True\n",
                "                    break\n",
                "\n",
                "            if returner:\n",
                "                env.reset()\n",
                "                return count\n",
                "\n",
                "    # 初期化関数\n",
                "    def init():\n",
                "        pass\n",
                "\n",
                "    # 描画を更新\n",
                "    def update(frame):\n",
                "        for _ in range(FRAME_INTERVAL):\n",
                "            observation, reward, done, info = env.step(mario[frame])\n",
                "            image.set_data(env.render(mode='rgb_array'))\n",
                "            if done:\n",
                "                env.reset()\n",
                "\n",
                "    # アニメーションの準備\n",
                "    fig, ax = plt.subplots()\n",
                "    image = ax.imshow(env.render(mode='rgb_array'))\n",
                "\n",
                "    # アニメーション作成（FPS of Super Mario Bros is 20）\n",
                "    anime = animation.FuncAnimation(fig, update, init_func=init, frames=range(count_frames()), interval=1000 * FRAME_INTERVAL / 20)\n",
                "\n",
                "    # アニメーションを表示\n",
                "    rc('animation', html='jshtml')\n",
                "    display(anime)"
            ]
        },
        {
            "cell_type": "code",
            "execution_count": null,
            "metadata": {},
            "outputs": [],
            "source": [
                "# ゴール到達のアニメーション\n",
                "mario_animation(super_marios[-1])"
            ]
        },
        {
            "cell_type": "code",
            "execution_count": null,
            "metadata": {},
            "outputs": [],
            "source": [
                "def plot_fitnesses(fitnesses):\n",
                "    \"\"\"世代ごとの適応度をプロットする関数\"\"\"\n",
                "    # 分解\n",
                "    max, min, avg = zip(*fitnesses)\n",
                "\n",
                "    # 横軸\n",
                "    x_values = list(range(1, len(max) + 1))\n",
                "\n",
                "    # 描画\n",
                "    plt.plot(x_values, max, label='max')\n",
                "    plt.plot(x_values, min, label='min')\n",
                "    plt.plot(x_values, avg, label='avg')\n",
                "\n",
                "    # 凡例\n",
                "    plt.legend()\n",
                "\n",
                "    # ラベル\n",
                "    plt.xlabel('Generation')\n",
                "    plt.ylabel('Fitness')\n",
                "\n",
                "    # 表示\n",
                "    plt.show()"
            ]
        },
        {
            "cell_type": "code",
            "execution_count": null,
            "metadata": {},
            "outputs": [],
            "source": [
                "# 適応度の推移\n",
                "plot_fitnesses(generations_fitnesses)"
            ]
        }
    ],
    "metadata": {
        "kernelspec": {
            "display_name": "Python 3",
            "language": "python",
            "name": "python3"
        },
        "language_info": {
            "codemirror_mode": {
                "name": "ipython",
                "version": 3
            },
            "file_extension": ".py",
            "mimetype": "text/x-python",
            "name": "python",
            "nbconvert_exporter": "python",
            "pygments_lexer": "ipython3",
            "version": "3.11.5"
        }
    },
    "nbformat": 4,
    "nbformat_minor": 2
}
