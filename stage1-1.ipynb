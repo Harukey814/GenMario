{
    "cells": [
        {
            "cell_type": "markdown",
            "metadata": {},
            "source": [
                "# Setting"
            ]
        },
        {
            "cell_type": "code",
            "execution_count": 31,
            "metadata": {},
            "outputs": [],
            "source": [
                "# マリオ関連のimport\n",
                "from nes_py.wrappers import JoypadSpace\n",
                "import gym_super_mario_bros\n",
                "\n",
                "# プロット関連のimport\n",
                "import matplotlib.pyplot as plt\n",
                "from matplotlib import animation, rc\n",
                "from IPython.display import display\n",
                "\n",
                "# 数値関連のimport\n",
                "import math\n",
                "import numpy as np\n",
                "import numpy.random as rnd\n",
                "\n",
                "# 警告関連のimport\n",
                "import warnings\n",
                "\n",
                "# マルチプロセス関連のimport\n",
                "from concurrent.futures import ThreadPoolExecutor"
            ]
        },
        {
            "cell_type": "code",
            "execution_count": 32,
            "metadata": {},
            "outputs": [],
            "source": [
                "# アニメーションのサイズを拡張\n",
                "plt.rcParams['animation.embed_limit'] = 200\n",
                "\n",
                "# シード値を設定\n",
                "rnd.seed(1704034800)\n",
                "\n",
                "# 警告を非表示\n",
                "warnings.filterwarnings(\"ignore\", category=UserWarning, module=\"gym.envs.registration\")"
            ]
        },
        {
            "cell_type": "markdown",
            "metadata": {},
            "source": [
                "# Condition"
            ]
        },
        {
            "cell_type": "code",
            "execution_count": 22,
            "metadata": {},
            "outputs": [],
            "source": [
                "# ステージ\n",
                "STAGE = 'SuperMarioBros-1-1-v0'\n",
                "\n",
                "# アクションパターン\n",
                "MOVEMENT = [\n",
                "    ['right', 'B'],\n",
                "    ['right', 'A', 'B'],\n",
                "]"
            ]
        },
        {
            "cell_type": "code",
            "execution_count": null,
            "metadata": {},
            "outputs": [],
            "source": [
                "# 定数設定\n",
                "MAX_WORKERS = 16       # 最大プロセス数\n",
                "MAX_GENERATIONS = 50   # 最大世代数\n",
                "NUM_MARIOS = 50        # 個体数\n",
                "LEN_CHROMOSOME = 200   # 染色体の長さ\n",
                "CROSS_RATE = 0.9       # 交叉率\n",
                "MUTATION_RATE = 0.1    # 突然変異率\n",
                "FRAME_INTERVAL = 10    # 行動するフレーム間隔"
            ]
        },
        {
            "cell_type": "markdown",
            "metadata": {},
            "source": [
                "# Method"
            ]
        },
        {
            "cell_type": "code",
            "execution_count": 23,
            "metadata": {},
            "outputs": [],
            "source": [
                "def create_generation():\n",
                "    \"\"\"初期世代を作成する関数\"\"\"\n",
                "    return rnd.randint(len(MOVEMENT), size=(NUM_MARIOS, LEN_CHROMOSOME))"
            ]
        },
        {
            "cell_type": "code",
            "execution_count": 24,
            "metadata": {},
            "outputs": [],
            "source": [
                "def cross(parent1, parent2):\n",
                "    \"\"\"交叉を行う関数\"\"\"\n",
                "    cross_points = rnd.choice(LEN_CHROMOSOME, 1)\n",
                "    child1 = np.concatenate([parent1[:cross_points[0]], parent2[cross_points[0]:]])\n",
                "    child2 = np.concatenate([parent2[:cross_points[0]], parent1[cross_points[0]:]])\n",
                "    return child1, child2"
            ]
        },
        {
            "cell_type": "code",
            "execution_count": 25,
            "metadata": {},
            "outputs": [],
            "source": [
                "def mutation(mario):\n",
                "    \"\"\"突然変異を行う関数\"\"\"\n",
                "    if rnd.random() < MUTATION_RATE:\n",
                "        num_mutations = math.ceil(0.05 * LEN_CHROMOSOME)\n",
                "        mutated_indexes = rnd.choice(LEN_CHROMOSOME, num_mutations, replace=False)\n",
                "        for index in mutated_indexes:\n",
                "            mario[index] = rnd.randint(len(MOVEMENT))\n",
                "\n",
                "    return mario"
            ]
        },
        {
            "cell_type": "code",
            "execution_count": 26,
            "metadata": {},
            "outputs": [],
            "source": [
                "def sorts(fitnesses, generation):\n",
                "    \"\"\"マリオを並び替える関数\"\"\"\n",
                "    return zip(*sorted(zip(fitnesses, generation), key=lambda x: x[0], reverse=True))"
            ]
        },
        {
            "cell_type": "code",
            "execution_count": 27,
            "metadata": {},
            "outputs": [],
            "source": [
                "def print_fitness(fitnesses, current_generation):\n",
                "    \"\"\"適応度を出力する関数\"\"\"\n",
                "    max = fitnesses[0]\n",
                "    min = fitnesses[NUM_MARIOS - 1]\n",
                "    avg = int(sum(fitnesses) / NUM_MARIOS)\n",
                "    print(\"{:<3}   max: {:<5}   min: {:<5}   avg: {:<5}\".format(current_generation, max, min, avg))"
            ]
        },
        {
            "cell_type": "code",
            "execution_count": 28,
            "metadata": {},
            "outputs": [],
            "source": [
                "def roulette_selection(fitnesses, generation):\n",
                "    \"\"\"ルーレット選択を行う関数\"\"\"\n",
                "    selection_rates = fitnesses / np.sum(fitnesses)\n",
                "    parent_indexes = rnd.choice(NUM_MARIOS, 2, p=selection_rates, replace=False)\n",
                "    return generation[parent_indexes[0]], generation[parent_indexes[1]]"
            ]
        },
        {
            "cell_type": "code",
            "execution_count": 29,
            "metadata": {},
            "outputs": [],
            "source": [
                "def evaluate(mario):\n",
                "    \"\"\"評価関数\"\"\"\n",
                "    # 環境設定\n",
                "    env = gym_super_mario_bros.make(STAGE)\n",
                "    env = JoypadSpace(env, MOVEMENT)\n",
                "    env.reset()\n",
                "\n",
                "    # ゲーム本番\n",
                "    breaker = False\n",
                "    for action in mario:\n",
                "        for _ in range(FRAME_INTERVAL):\n",
                "            observation, reward, done, info = env.step(action)\n",
                "            if done:\n",
                "                breaker = True\n",
                "                break\n",
                "\n",
                "        if breaker:\n",
                "            break\n",
                "\n",
                "    # 評価値計算\n",
                "    evaluation = info[\"x_pos\"]\n",
                "    if(info[\"flag_get\"]):\n",
                "        evaluation += 50000  # ゴール到達は高得点\n",
                "\n",
                "    env.close()\n",
                "    return evaluation"
            ]
        },
        {
            "cell_type": "markdown",
            "metadata": {},
            "source": [
                "# Execution"
            ]
        },
        {
            "cell_type": "code",
            "execution_count": 30,
            "metadata": {},
            "outputs": [
                {
                    "name": "stdout",
                    "output_type": "stream",
                    "text": [
                        "1     max: 1674    min: 299     avg: 742  \n"
                    ]
                },
                {
                    "ename": "KeyboardInterrupt",
                    "evalue": "",
                    "output_type": "error",
                    "traceback": [
                        "\u001b[0;31m---------------------------------------------------------------------------\u001b[0m",
                        "\u001b[0;31mKeyboardInterrupt\u001b[0m                         Traceback (most recent call last)",
                        "Cell \u001b[0;32mIn[30], line 12\u001b[0m\n\u001b[1;32m      9\u001b[0m \u001b[38;5;28;01mfor\u001b[39;00m current_generation \u001b[38;5;129;01min\u001b[39;00m \u001b[38;5;28mrange\u001b[39m(\u001b[38;5;241m1\u001b[39m, MAX_GENERATIONS \u001b[38;5;241m+\u001b[39m \u001b[38;5;241m1\u001b[39m):\n\u001b[1;32m     10\u001b[0m     \u001b[38;5;66;03m# 適応度計算\u001b[39;00m\n\u001b[1;32m     11\u001b[0m     fitnesses \u001b[38;5;241m=\u001b[39m []\n\u001b[0;32m---> 12\u001b[0m     evaluations \u001b[38;5;241m=\u001b[39m \u001b[38;5;28;43mlist\u001b[39;49m\u001b[43m(\u001b[49m\u001b[43mexecutor\u001b[49m\u001b[38;5;241;43m.\u001b[39;49m\u001b[43mmap\u001b[49m\u001b[43m(\u001b[49m\u001b[43mevaluate\u001b[49m\u001b[43m,\u001b[49m\u001b[43m \u001b[49m\u001b[43mgeneration\u001b[49m\u001b[43m)\u001b[49m\u001b[43m)\u001b[49m\n\u001b[1;32m     13\u001b[0m     fitnesses\u001b[38;5;241m.\u001b[39mextend(evaluations)\n\u001b[1;32m     15\u001b[0m     \u001b[38;5;66;03m# 並び替え・表示\u001b[39;00m\n",
                        "File \u001b[0;32m/opt/homebrew/Cellar/python@3.11/3.11.5/Frameworks/Python.framework/Versions/3.11/lib/python3.11/concurrent/futures/_base.py:619\u001b[0m, in \u001b[0;36mExecutor.map.<locals>.result_iterator\u001b[0;34m()\u001b[0m\n\u001b[1;32m    616\u001b[0m \u001b[38;5;28;01mwhile\u001b[39;00m fs:\n\u001b[1;32m    617\u001b[0m     \u001b[38;5;66;03m# Careful not to keep a reference to the popped future\u001b[39;00m\n\u001b[1;32m    618\u001b[0m     \u001b[38;5;28;01mif\u001b[39;00m timeout \u001b[38;5;129;01mis\u001b[39;00m \u001b[38;5;28;01mNone\u001b[39;00m:\n\u001b[0;32m--> 619\u001b[0m         \u001b[38;5;28;01myield\u001b[39;00m \u001b[43m_result_or_cancel\u001b[49m\u001b[43m(\u001b[49m\u001b[43mfs\u001b[49m\u001b[38;5;241;43m.\u001b[39;49m\u001b[43mpop\u001b[49m\u001b[43m(\u001b[49m\u001b[43m)\u001b[49m\u001b[43m)\u001b[49m\n\u001b[1;32m    620\u001b[0m     \u001b[38;5;28;01melse\u001b[39;00m:\n\u001b[1;32m    621\u001b[0m         \u001b[38;5;28;01myield\u001b[39;00m _result_or_cancel(fs\u001b[38;5;241m.\u001b[39mpop(), end_time \u001b[38;5;241m-\u001b[39m time\u001b[38;5;241m.\u001b[39mmonotonic())\n",
                        "File \u001b[0;32m/opt/homebrew/Cellar/python@3.11/3.11.5/Frameworks/Python.framework/Versions/3.11/lib/python3.11/concurrent/futures/_base.py:317\u001b[0m, in \u001b[0;36m_result_or_cancel\u001b[0;34m(***failed resolving arguments***)\u001b[0m\n\u001b[1;32m    315\u001b[0m \u001b[38;5;28;01mtry\u001b[39;00m:\n\u001b[1;32m    316\u001b[0m     \u001b[38;5;28;01mtry\u001b[39;00m:\n\u001b[0;32m--> 317\u001b[0m         \u001b[38;5;28;01mreturn\u001b[39;00m \u001b[43mfut\u001b[49m\u001b[38;5;241;43m.\u001b[39;49m\u001b[43mresult\u001b[49m\u001b[43m(\u001b[49m\u001b[43mtimeout\u001b[49m\u001b[43m)\u001b[49m\n\u001b[1;32m    318\u001b[0m     \u001b[38;5;28;01mfinally\u001b[39;00m:\n\u001b[1;32m    319\u001b[0m         fut\u001b[38;5;241m.\u001b[39mcancel()\n",
                        "File \u001b[0;32m/opt/homebrew/Cellar/python@3.11/3.11.5/Frameworks/Python.framework/Versions/3.11/lib/python3.11/concurrent/futures/_base.py:451\u001b[0m, in \u001b[0;36mFuture.result\u001b[0;34m(self, timeout)\u001b[0m\n\u001b[1;32m    448\u001b[0m \u001b[38;5;28;01melif\u001b[39;00m \u001b[38;5;28mself\u001b[39m\u001b[38;5;241m.\u001b[39m_state \u001b[38;5;241m==\u001b[39m FINISHED:\n\u001b[1;32m    449\u001b[0m     \u001b[38;5;28;01mreturn\u001b[39;00m \u001b[38;5;28mself\u001b[39m\u001b[38;5;241m.\u001b[39m__get_result()\n\u001b[0;32m--> 451\u001b[0m \u001b[38;5;28;43mself\u001b[39;49m\u001b[38;5;241;43m.\u001b[39;49m\u001b[43m_condition\u001b[49m\u001b[38;5;241;43m.\u001b[39;49m\u001b[43mwait\u001b[49m\u001b[43m(\u001b[49m\u001b[43mtimeout\u001b[49m\u001b[43m)\u001b[49m\n\u001b[1;32m    453\u001b[0m \u001b[38;5;28;01mif\u001b[39;00m \u001b[38;5;28mself\u001b[39m\u001b[38;5;241m.\u001b[39m_state \u001b[38;5;129;01min\u001b[39;00m [CANCELLED, CANCELLED_AND_NOTIFIED]:\n\u001b[1;32m    454\u001b[0m     \u001b[38;5;28;01mraise\u001b[39;00m CancelledError()\n",
                        "File \u001b[0;32m/opt/homebrew/Cellar/python@3.11/3.11.5/Frameworks/Python.framework/Versions/3.11/lib/python3.11/threading.py:320\u001b[0m, in \u001b[0;36mCondition.wait\u001b[0;34m(self, timeout)\u001b[0m\n\u001b[1;32m    318\u001b[0m \u001b[38;5;28;01mtry\u001b[39;00m:    \u001b[38;5;66;03m# restore state no matter what (e.g., KeyboardInterrupt)\u001b[39;00m\n\u001b[1;32m    319\u001b[0m     \u001b[38;5;28;01mif\u001b[39;00m timeout \u001b[38;5;129;01mis\u001b[39;00m \u001b[38;5;28;01mNone\u001b[39;00m:\n\u001b[0;32m--> 320\u001b[0m         \u001b[43mwaiter\u001b[49m\u001b[38;5;241;43m.\u001b[39;49m\u001b[43macquire\u001b[49m\u001b[43m(\u001b[49m\u001b[43m)\u001b[49m\n\u001b[1;32m    321\u001b[0m         gotit \u001b[38;5;241m=\u001b[39m \u001b[38;5;28;01mTrue\u001b[39;00m\n\u001b[1;32m    322\u001b[0m     \u001b[38;5;28;01melse\u001b[39;00m:\n",
                        "\u001b[0;31mKeyboardInterrupt\u001b[0m: "
                    ]
                }
            ],
            "source": [
                "# 世代ごとの最優秀マリオ\n",
                "super_marios = []\n",
                "\n",
                "# GA本番（マルチプロセス）\n",
                "with ThreadPoolExecutor(max_workers=MAX_WORKERS) as executor:\n",
                "    # 初期世代\n",
                "    generation = create_generation()\n",
                "\n",
                "    for current_generation in range(1, MAX_GENERATIONS + 1):\n",
                "        # 適応度計算\n",
                "        fitnesses = []\n",
                "        evaluations = list(executor.map(evaluate, generation))\n",
                "        fitnesses.extend(evaluations)\n",
                "\n",
                "        # 並び替え・表示\n",
                "        fitnesses, generation = sorts(fitnesses, generation)\n",
                "        print_fitness(fitnesses, current_generation)\n",
                "        \n",
                "        # 最優秀マリオを保存\n",
                "        super_marios.append(generation[0])\n",
                "        \n",
                "        # ゴール到達\n",
                "        if(fitnesses[0] > 50000):\n",
                "            break\n",
                "\n",
                "        # 世代交代\n",
                "        next_generation = []\n",
                "        num_elite = math.ceil(NUM_MARIOS * (1 - CROSS_RATE))\n",
                "        next_generation.extend(generation[:num_elite])\n",
                "        while len(next_generation) < NUM_MARIOS:\n",
                "            parent1, parent2 = roulette_selection(fitnesses, generation)\n",
                "            child1, child2 = cross(parent1, parent2)\n",
                "            next_generation.extend([mutation(child1), mutation(child2)])\n",
                "\n",
                "        generation = next_generation[:NUM_MARIOS]"
            ]
        },
        {
            "cell_type": "markdown",
            "metadata": {},
            "source": [
                "# Result"
            ]
        },
        {
            "cell_type": "code",
            "execution_count": null,
            "metadata": {},
            "outputs": [],
            "source": [
                "def mario_animation(mario):\n",
                "    \"\"\"マリオのアニメーションを作成する関数\"\"\"\n",
                "    # 環境設定\n",
                "    env = gym_super_mario_bros.make(STAGE)\n",
                "    env = JoypadSpace(env, MOVEMENT)\n",
                "    env.reset()\n",
                "\n",
                "    # アニメーションの準備\n",
                "    fig = plt.figure()\n",
                "    images = []\n",
                "\n",
                "    # ゲーム本番\n",
                "    breaker = False\n",
                "    for action in mario:\n",
                "        for _ in range(FRAME_INTERVAL):\n",
                "            observation, reward, done, info = env.step(action)\n",
                "            image = plt.imshow(env.render(mode='rgb_array'))\n",
                "            images.append([image])\n",
                "            if done:\n",
                "                breaker = True\n",
                "                break\n",
                "\n",
                "        if breaker:\n",
                "            break\n",
                "\n",
                "    # アニメーションを表示\n",
                "    anime = animation.ArtistAnimation(fig, images, interval=20, blit=True)\n",
                "    rc('animation', html='jshtml')\n",
                "    display(anime)"
            ]
        },
        {
            "cell_type": "code",
            "execution_count": null,
            "metadata": {},
            "outputs": [],
            "source": [
                "# ゴール到達のアニメーションを表示\n",
                "# mario_animation(super_marios[-1])"
            ]
        }
    ],
    "metadata": {
        "kernelspec": {
            "display_name": "Python 3",
            "language": "python",
            "name": "python3"
        },
        "language_info": {
            "codemirror_mode": {
                "name": "ipython",
                "version": 3
            },
            "file_extension": ".py",
            "mimetype": "text/x-python",
            "name": "python",
            "nbconvert_exporter": "python",
            "pygments_lexer": "ipython3",
            "version": "3.11.5"
        }
    },
    "nbformat": 4,
    "nbformat_minor": 2
}
