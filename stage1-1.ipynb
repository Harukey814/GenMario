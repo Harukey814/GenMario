{
    "cells": [
        {
            "cell_type": "code",
            "execution_count": null,
            "metadata": {},
            "outputs": [],
            "source": [
                "# マリオ関連のimport\n",
                "from nes_py.wrappers import JoypadSpace\n",
                "import gym_super_mario_bros\n",
                "\n",
                "# プロット関連のimport\n",
                "# import matplotlib.pyplot as plt\n",
                "# from matplotlib import animation, rc\n",
                "\n",
                "# 数値関連のimport\n",
                "import math\n",
                "import numpy as np\n",
                "import numpy.random as rnd\n",
                "\n",
                "# 警告関連のimport\n",
                "import warnings\n",
                "\n",
                "# マルチプロセス関連のimport\n",
                "from concurrent.futures import ThreadPoolExecutor\n",
                "\n",
                "# 時間関連のimport\n",
                "import time\n",
                "\n",
                "# シード値を設定\n",
                "rnd.seed(1704034800)\n",
                "\n",
                "# 警告を非表示\n",
                "warnings.filterwarnings(\"ignore\", category=UserWarning, module=\"gym.envs.registration\")"
            ]
        },
        {
            "cell_type": "code",
            "execution_count": null,
            "metadata": {},
            "outputs": [],
            "source": [
                "# アクションパターン\n",
                "MOVEMENT = [\n",
                "    ['right', 'B'],\n",
                "    ['right', 'A', 'B'],\n",
                "]\n",
                "\n",
                "# 定数設定\n",
                "MAX_WORKERS = 10       # 最大プロセス数\n",
                "MAX_GENERATIONS = 100  # 最大世代数\n",
                "NUM_MARIOS = 50        # 個体数\n",
                "LEN_CHROMOSOME = 300   # 染色体の長さ\n",
                "CROSS_RATE = 0.8       # 交叉率\n",
                "MUTATION_RATE = 0.1    # 突然変異率\n",
                "FRAME_INTERVAL = 10    # 行動するフレーム間隔"
            ]
        },
        {
            "cell_type": "code",
            "execution_count": null,
            "metadata": {},
            "outputs": [],
            "source": [
                "def create_generation():\n",
                "    \"\"\"初期世代を作成する関数\"\"\"\n",
                "    return rnd.randint(len(MOVEMENT), size=(NUM_MARIOS, LEN_CHROMOSOME))"
            ]
        },
        {
            "cell_type": "code",
            "execution_count": null,
            "metadata": {},
            "outputs": [],
            "source": [
                "def cross(parent1, parent2):\n",
                "    \"\"\"交叉を行う関数\"\"\"\n",
                "    cross_points = rnd.choice(LEN_CHROMOSOME, 1, replace=False)\n",
                "    child1 = np.concatenate([parent1[:cross_points[0]], parent2[cross_points[0]:]])\n",
                "    child2 = np.concatenate([parent2[:cross_points[0]], parent1[cross_points[0]:]])\n",
                "    return child1, child2\n"
            ]
        },
        {
            "cell_type": "code",
            "execution_count": null,
            "metadata": {},
            "outputs": [],
            "source": [
                "def mutation(mario):\n",
                "    \"\"\"突然変異を行う関数\"\"\"\n",
                "    if rnd.random() < MUTATION_RATE:\n",
                "        num_mutations = math.ceil(0.05 * LEN_CHROMOSOME)\n",
                "        mutated_indexes = rnd.choice(LEN_CHROMOSOME, num_mutations, replace=False)\n",
                "        for index in mutated_indexes:\n",
                "            mario[index] = rnd.randint(len(MOVEMENT))\n",
                "\n",
                "    return mario"
            ]
        },
        {
            "cell_type": "code",
            "execution_count": null,
            "metadata": {},
            "outputs": [],
            "source": [
                "def sorts(fitnesses, generation):\n",
                "    \"\"\"マリオを並び替える関数\"\"\"\n",
                "    return zip(*sorted(zip(fitnesses, generation), key=lambda x: x[0], reverse=True))"
            ]
        },
        {
            "cell_type": "code",
            "execution_count": null,
            "metadata": {},
            "outputs": [],
            "source": [
                "def print_fitness(fitnesses, current_generation):\n",
                "    \"\"\"適応度を出力する関数\"\"\"\n",
                "    max = fitnesses[0]\n",
                "    min = fitnesses[NUM_MARIOS - 1]\n",
                "    avg = int(sum(fitnesses) / NUM_MARIOS)\n",
                "    print(\"{:<3}   max: {:<4}   min: {:<4}   avg: {:<4}\".format(current_generation, max, min, avg))"
            ]
        },
        {
            "cell_type": "code",
            "execution_count": null,
            "metadata": {},
            "outputs": [],
            "source": [
                "def roulette_selection(fitnesses, generation):\n",
                "    \"\"\"ルーレット選択を行う関数\"\"\"\n",
                "    selection_rates = fitnesses / np.sum(fitnesses)\n",
                "    parent_indexes = rnd.choice(NUM_MARIOS, 2, p=selection_rates, replace=False)\n",
                "    return generation[parent_indexes[0]], generation[parent_indexes[1]]"
            ]
        },
        {
            "cell_type": "code",
            "execution_count": null,
            "metadata": {},
            "outputs": [],
            "source": [
                "\n",
                "def evaluate(mario):\n",
                "    \"\"\"評価関数\"\"\"\n",
                "    # 環境設定\n",
                "    env = gym_super_mario_bros.make('SuperMarioBros-1-1-v0')\n",
                "    env = JoypadSpace(env, MOVEMENT)\n",
                "    env.reset()\n",
                "\n",
                "    # ゲーム本番\n",
                "    end_flag = False\n",
                "    for action in mario:\n",
                "        for _ in range(FRAME_INTERVAL):\n",
                "            observation, reward, done, info = env.step(action)\n",
                "            if done:\n",
                "                end_flag = True\n",
                "                break\n",
                "\n",
                "        if end_flag:\n",
                "            break\n",
                "\n",
                "    # 評価値計算\n",
                "    evaluation = info[\"x_pos\"]\n",
                "    env.close()\n",
                "    return evaluation"
            ]
        },
        {
            "cell_type": "code",
            "execution_count": null,
            "metadata": {},
            "outputs": [],
            "source": [
                "# 初期世代\n",
                "generation = create_generation()\n",
                "\n",
                "# マルチプロセス\n",
                "with ThreadPoolExecutor(max_workers=MAX_WORKERS) as executor:\n",
                "    start_time = time.time()\n",
                "\n",
                "    for current_generation in range(1, MAX_GENERATIONS + 1):\n",
                "        # 適応度\n",
                "        fitnesses = []\n",
                "        evaluations = list(executor.map(evaluate, generation))\n",
                "        fitnesses.extend(evaluations)\n",
                "        fitnesses, generation = sorts(fitnesses, generation)\n",
                "        print_fitness(fitnesses, current_generation)\n",
                "\n",
                "        # 次世代\n",
                "        next_generation = []\n",
                "        num_elite = math.ceil(NUM_MARIOS * (1 - CROSS_RATE))\n",
                "        next_generation.extend(generation[:num_elite])\n",
                "        while len(next_generation) < NUM_MARIOS:\n",
                "            parent1, parent2 = roulette_selection(fitnesses, generation)\n",
                "            child1, child2 = cross(parent1, parent2)\n",
                "            next_generation.extend([mutation(child1), mutation(child2)])\n",
                "\n",
                "        generation = next_generation[:NUM_MARIOS]\n",
                "    \n",
                "    # 実行時間\n",
                "    end_time = time.time()\n",
                "    print(\"Total time(s) : {}\".format(end_time - start_time))"
            ]
        }
    ],
    "metadata": {
        "kernelspec": {
            "display_name": "Python 3",
            "language": "python",
            "name": "python3"
        },
        "language_info": {
            "codemirror_mode": {
                "name": "ipython",
                "version": 3
            },
            "file_extension": ".py",
            "mimetype": "text/x-python",
            "name": "python",
            "nbconvert_exporter": "python",
            "pygments_lexer": "ipython3",
            "version": "3.11.5"
        }
    },
    "nbformat": 4,
    "nbformat_minor": 2
}
