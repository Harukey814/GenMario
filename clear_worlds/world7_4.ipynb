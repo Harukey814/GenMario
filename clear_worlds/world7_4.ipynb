{
 "cells": [
  {
   "cell_type": "markdown",
   "metadata": {},
   "source": [
    "# Setting"
   ]
  },
  {
   "cell_type": "code",
   "execution_count": null,
   "metadata": {},
   "outputs": [],
   "source": [
    "# 遺伝的アルゴリズムでマリオを成長させるクラスをimport\n",
    "from genetic_mario_algorithm import GeneticMarioAlgorithm"
   ]
  },
  {
   "cell_type": "markdown",
   "metadata": {},
   "source": [
    "# Attribute"
   ]
  },
  {
   "cell_type": "code",
   "execution_count": null,
   "metadata": {},
   "outputs": [],
   "source": [
    "# ステージ\n",
    "STAGE = 'SuperMarioBros-7-4-v0'\n",
    "\n",
    "# アクションパターン\n",
    "MOVEMENT = [\n",
    "    ['NOOP'],\n",
    "    ['right', 'A'],\n",
    "    ['right', 'B'],\n",
    "    ['right', 'A', 'B']\n",
    "]"
   ]
  },
  {
   "cell_type": "code",
   "execution_count": null,
   "metadata": {},
   "outputs": [],
   "source": [
    "# 定数設定\n",
    "MAX_WORKERS = 16            # 最大プロセス数\n",
    "MAX_GENERATIONS = 50        # 最大世代数\n",
    "NUM_MARIOS = 100            # 個体数\n",
    "LEN_CHROMOSOME = 500        # 染色体の長さ\n",
    "CROSS_RATE = 0.9            # 交叉率\n",
    "MUTATION_RATE = 0.2         # 突然変異率\n",
    "MUTATION_POINTS_RATE = 0.2  # 突然変異点率\n",
    "FRAME_INTERVAL = 4          # 行動するフレーム間隔\n",
    "STOP_ACTIONS = 10           # 停滞と判断するアクション数"
   ]
  },
  {
   "cell_type": "markdown",
   "metadata": {},
   "source": [
    "# Instance"
   ]
  },
  {
   "cell_type": "code",
   "execution_count": null,
   "metadata": {},
   "outputs": [],
   "source": [
    "algorithm = GeneticMarioAlgorithm(STAGE,\n",
    "                                  MOVEMENT,\n",
    "                                  MAX_WORKERS,\n",
    "                                  MAX_GENERATIONS,\n",
    "                                  NUM_MARIOS,\n",
    "                                  LEN_CHROMOSOME,\n",
    "                                  CROSS_RATE,\n",
    "                                  MUTATION_RATE,\n",
    "                                  MUTATION_POINTS_RATE,\n",
    "                                  FRAME_INTERVAL,\n",
    "                                  STOP_ACTIONS)"
   ]
  },
  {
   "cell_type": "markdown",
   "metadata": {},
   "source": [
    "# Run"
   ]
  },
  {
   "cell_type": "code",
   "execution_count": null,
   "metadata": {},
   "outputs": [],
   "source": [
    "super_marios, generations_fitnesses =  algorithm.run()"
   ]
  },
  {
   "cell_type": "markdown",
   "metadata": {},
   "source": [
    "# Animation"
   ]
  },
  {
   "cell_type": "code",
   "execution_count": null,
   "metadata": {},
   "outputs": [],
   "source": [
    "algorithm.mario_animation(super_marios[-1])"
   ]
  },
  {
   "cell_type": "markdown",
   "metadata": {},
   "source": [
    "# Graph"
   ]
  },
  {
   "cell_type": "code",
   "execution_count": null,
   "metadata": {},
   "outputs": [],
   "source": [
    "algorithm.plot_fitnesses(generations_fitnesses)"
   ]
  }
 ],
 "metadata": {
  "kernelspec": {
   "display_name": "Python 3",
   "language": "python",
   "name": "python3"
  },
  "language_info": {
   "codemirror_mode": {
    "name": "ipython",
    "version": 3
   },
   "file_extension": ".py",
   "mimetype": "text/x-python",
   "name": "python",
   "nbconvert_exporter": "python",
   "pygments_lexer": "ipython3",
   "version": "3.11.5"
  }
 },
 "nbformat": 4,
 "nbformat_minor": 2
}
